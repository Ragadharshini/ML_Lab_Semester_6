{
  "cells": [
    {
      "cell_type": "code",
      "execution_count": 1,
      "metadata": {
        "id": "gdx1d6emCDyl"
      },
      "outputs": [],
      "source": [
        "import pandas as pd\n",
        "import numpy as np\n",
        "import pandas as pd\n",
        "from sklearn.model_selection import train_test_split\n",
        "from sklearn.preprocessing import LabelEncoder, StandardScaler"
      ]
    },
    {
      "cell_type": "code",
      "execution_count": 2,
      "metadata": {
        "id": "_p64I71SCvfP"
      },
      "outputs": [],
      "source": [
        "from sklearn.neighbors import KNeighborsClassifier\n",
        "from sklearn.linear_model import LogisticRegression\n",
        "from sklearn.naive_bayes import GaussianNB\n",
        "from sklearn.tree import DecisionTreeClassifier\n",
        "from sklearn.svm import SVC\n",
        "from sklearn.metrics import accuracy_score\n",
        "from sklearn.impute import SimpleImputer\n",
        "from sklearn import neighbors, datasets, preprocessing\n",
        "from sklearn.model_selection import train_test_split\n",
        "from sklearn.metrics import accuracy_score\n",
        "from sklearn.metrics import classification_report\n",
        "from sklearn.metrics import confusion_matrix"
      ]
    },
    {
      "cell_type": "code",
      "execution_count": 7,
      "metadata": {
        "id": "2Adp-JOODZ3w"
      },
      "outputs": [],
      "source": [
        "data=pd.read_csv(r\"/Telco-Customer-Churn.csv\")\n",
        "data\n",
        "df=pd.DataFrame(data)\n",
        "\n",
        "df = df.drop('customerID', axis=1)\n",
        "df=df.dropna()\n"
      ]
    },
    {
      "cell_type": "markdown",
      "metadata": {
        "id": "5XSPyXKoeX_g"
      },
      "source": []
    },
    {
      "cell_type": "code",
      "execution_count": 8,
      "metadata": {
        "colab": {
          "base_uri": "https://localhost:8080/",
          "height": 0
        },
        "id": "7oYufg-DDgme",
        "outputId": "72affe34-726c-4be8-d948-d0040214d604"
      },
      "outputs": [
        {
          "name": "stdout",
          "output_type": "stream",
          "text": [
            "      gender  SeniorCitizen Partner Dependents  tenure PhoneService  \\\n",
            "0       Male              0      No         No      34          Yes   \n",
            "1       Male              0      No         No       2          Yes   \n",
            "2     Female              0      No         No       2          Yes   \n",
            "3     Female              0      No         No       8          Yes   \n",
            "4       Male              0      No        Yes      22          Yes   \n",
            "...      ...            ...     ...        ...     ...          ...   \n",
            "4830    Male              0      No         No      19          Yes   \n",
            "4831    Male              0     Yes        Yes      24          Yes   \n",
            "4832  Female              0     Yes        Yes      72          Yes   \n",
            "4833    Male              1     Yes         No       4          Yes   \n",
            "4834    Male              0      No         No      66          Yes   \n",
            "\n",
            "     MultipleLines InternetService OnlineSecurity OnlineBackup  \\\n",
            "0               No             DSL            Yes           No   \n",
            "1               No             DSL            Yes          Yes   \n",
            "2               No     Fiber optic             No           No   \n",
            "3              Yes     Fiber optic             No           No   \n",
            "4              Yes     Fiber optic             No          Yes   \n",
            "...            ...             ...            ...          ...   \n",
            "4830            No     Fiber optic             No           No   \n",
            "4831           Yes             DSL            Yes           No   \n",
            "4832           Yes     Fiber optic             No          Yes   \n",
            "4833           Yes     Fiber optic             No           No   \n",
            "4834            No     Fiber optic            Yes           No   \n",
            "\n",
            "     DeviceProtection TechSupport StreamingTV StreamingMovies        Contract  \\\n",
            "0                 Yes          No          No              No        One year   \n",
            "1                  No          No          No              No  Month-to-month   \n",
            "2                  No          No          No              No  Month-to-month   \n",
            "3                 Yes          No         Yes             Yes  Month-to-month   \n",
            "4                  No          No         Yes              No  Month-to-month   \n",
            "...               ...         ...         ...             ...             ...   \n",
            "4830               No          No         Yes              No  Month-to-month   \n",
            "4831              Yes         Yes         Yes             Yes        One year   \n",
            "4832              Yes          No         Yes             Yes        One year   \n",
            "4833               No          No          No              No  Month-to-month   \n",
            "4834              Yes         Yes         Yes             Yes        Two year   \n",
            "\n",
            "     PaperlessBilling              PaymentMethod  MonthlyCharges TotalCharges  \\\n",
            "0                  No               Mailed check           56.95       1889.5   \n",
            "1                 Yes               Mailed check           53.85       108.15   \n",
            "2                 Yes           Electronic check           70.70       151.65   \n",
            "3                 Yes           Electronic check           99.65        820.5   \n",
            "4                 Yes    Credit card (automatic)           89.10       1949.4   \n",
            "...               ...                        ...             ...          ...   \n",
            "4830              Yes  Bank transfer (automatic)           78.70       1495.1   \n",
            "4831              Yes               Mailed check           84.80       1990.5   \n",
            "4832              Yes    Credit card (automatic)          103.20       7362.9   \n",
            "4833              Yes               Mailed check           74.40        306.6   \n",
            "4834              Yes  Bank transfer (automatic)          105.65       6844.5   \n",
            "\n",
            "     Churn  \n",
            "0       No  \n",
            "1      Yes  \n",
            "2      Yes  \n",
            "3      Yes  \n",
            "4       No  \n",
            "...    ...  \n",
            "4830    No  \n",
            "4831    No  \n",
            "4832    No  \n",
            "4833   Yes  \n",
            "4834    No  \n",
            "\n",
            "[4835 rows x 20 columns]\n"
          ]
        }
      ],
      "source": [
        "rows_with_no_phone_service = df[df.apply(lambda row: 'No phone service' in row.values, axis=1)]\n",
        "df = df.drop(rows_with_no_phone_service.index)\n",
        "\n",
        "# Identify and remove rows where 'No internet service' is present in any column\n",
        "rows_with_no_internet_service = df[df.apply(lambda row: 'No internet service' in row.values, axis=1)]\n",
        "df = df.drop(rows_with_no_internet_service.index)\n",
        "\n",
        "# Resetting the index after dropping rows\n",
        "df = df.reset_index(drop=True)\n",
        "\n",
        "# Display the modified DataFrame\n",
        "print(df)"
      ]
    },
    {
      "cell_type": "code",
      "execution_count": 9,
      "metadata": {
        "colab": {
          "base_uri": "https://localhost:8080/",
          "height": 0
        },
        "id": "_LXMxhfNDjbO",
        "outputId": "69a7b1c7-30b5-4026-d7c2-7ffb7e2c3028"
      },
      "outputs": [
        {
          "name": "stdout",
          "output_type": "stream",
          "text": [
            "Filtered Columns: ['Partner', 'Dependents', 'PhoneService', 'MultipleLines', 'OnlineSecurity', 'OnlineBackup', 'DeviceProtection', 'TechSupport', 'StreamingTV', 'StreamingMovies', 'PaperlessBilling', 'Churn']\n"
          ]
        }
      ],
      "source": [
        "response_values = ['No', 'Yes', 'no', 'yes']\n",
        "filtered_columns = df.columns[df.isin(response_values).all()].tolist()\n",
        "print(\"Filtered Columns:\", filtered_columns)"
      ]
    },
    {
      "cell_type": "code",
      "execution_count": 10,
      "metadata": {
        "colab": {
          "base_uri": "https://localhost:8080/",
          "height": 0
        },
        "id": "3UwnuNCGDoPj",
        "outputId": "4073d244-85e7-4091-bf10-d1ee8219641c"
      },
      "outputs": [
        {
          "name": "stdout",
          "output_type": "stream",
          "text": [
            "DataFrame after replacing 'Yes' with 1 and 'No' with 0:\n",
            "      gender  SeniorCitizen  Partner  Dependents  tenure  PhoneService  \\\n",
            "0       Male              0        0           0      34             1   \n",
            "1       Male              0        0           0       2             1   \n",
            "2     Female              0        0           0       2             1   \n",
            "3     Female              0        0           0       8             1   \n",
            "4       Male              0        0           1      22             1   \n",
            "...      ...            ...      ...         ...     ...           ...   \n",
            "4830    Male              0        0           0      19             1   \n",
            "4831    Male              0        1           1      24             1   \n",
            "4832  Female              0        1           1      72             1   \n",
            "4833    Male              1        1           0       4             1   \n",
            "4834    Male              0        0           0      66             1   \n",
            "\n",
            "      MultipleLines InternetService  OnlineSecurity  OnlineBackup  \\\n",
            "0                 0             DSL               1             0   \n",
            "1                 0             DSL               1             1   \n",
            "2                 0     Fiber optic               0             0   \n",
            "3                 1     Fiber optic               0             0   \n",
            "4                 1     Fiber optic               0             1   \n",
            "...             ...             ...             ...           ...   \n",
            "4830              0     Fiber optic               0             0   \n",
            "4831              1             DSL               1             0   \n",
            "4832              1     Fiber optic               0             1   \n",
            "4833              1     Fiber optic               0             0   \n",
            "4834              0     Fiber optic               1             0   \n",
            "\n",
            "      DeviceProtection  TechSupport  StreamingTV  StreamingMovies  \\\n",
            "0                    1            0            0                0   \n",
            "1                    0            0            0                0   \n",
            "2                    0            0            0                0   \n",
            "3                    1            0            1                1   \n",
            "4                    0            0            1                0   \n",
            "...                ...          ...          ...              ...   \n",
            "4830                 0            0            1                0   \n",
            "4831                 1            1            1                1   \n",
            "4832                 1            0            1                1   \n",
            "4833                 0            0            0                0   \n",
            "4834                 1            1            1                1   \n",
            "\n",
            "            Contract  PaperlessBilling              PaymentMethod  \\\n",
            "0           One year                 0               Mailed check   \n",
            "1     Month-to-month                 1               Mailed check   \n",
            "2     Month-to-month                 1           Electronic check   \n",
            "3     Month-to-month                 1           Electronic check   \n",
            "4     Month-to-month                 1    Credit card (automatic)   \n",
            "...              ...               ...                        ...   \n",
            "4830  Month-to-month                 1  Bank transfer (automatic)   \n",
            "4831        One year                 1               Mailed check   \n",
            "4832        One year                 1    Credit card (automatic)   \n",
            "4833  Month-to-month                 1               Mailed check   \n",
            "4834        Two year                 1  Bank transfer (automatic)   \n",
            "\n",
            "      MonthlyCharges TotalCharges  Churn  \n",
            "0              56.95       1889.5      0  \n",
            "1              53.85       108.15      1  \n",
            "2              70.70       151.65      1  \n",
            "3              99.65        820.5      1  \n",
            "4              89.10       1949.4      0  \n",
            "...              ...          ...    ...  \n",
            "4830           78.70       1495.1      0  \n",
            "4831           84.80       1990.5      0  \n",
            "4832          103.20       7362.9      0  \n",
            "4833           74.40        306.6      1  \n",
            "4834          105.65       6844.5      0  \n",
            "\n",
            "[4835 rows x 20 columns]\n"
          ]
        },
        {
          "name": "stderr",
          "output_type": "stream",
          "text": [
            "<ipython-input-10-ef666e7e63f4>:4: DeprecationWarning: In a future version, `df.iloc[:, i] = newvals` will attempt to set the values inplace instead of always setting a new array. To retain the old behavior, use either `df[df.columns[i]] = newvals` or, if columns are non-unique, `df.isetitem(i, newvals)`\n",
            "  df.loc[:, filtered_columns] = df.loc[:, filtered_columns].replace(replacement_mapping)\n"
          ]
        }
      ],
      "source": [
        "replacement_mapping = {'Yes': 1, 'No': 0}\n",
        "\n",
        "# Replace values in the specified columns using .loc\n",
        "df.loc[:, filtered_columns] = df.loc[:, filtered_columns].replace(replacement_mapping)\n",
        "df[filtered_columns] = df[filtered_columns].apply(pd.to_numeric, errors='coerce')\n",
        "\n",
        "# Display the resulting DataFrame\n",
        "print(\"DataFrame after replacing 'Yes' with 1 and 'No' with 0:\")\n",
        "print(df)"
      ]
    },
    {
      "cell_type": "code",
      "execution_count": 11,
      "metadata": {
        "colab": {
          "base_uri": "https://localhost:8080/",
          "height": 0
        },
        "id": "AFL9XAt8CSc9",
        "outputId": "a060d288-f5c3-4774-b922-32410c4147a7"
      },
      "outputs": [
        {
          "name": "stdout",
          "output_type": "stream",
          "text": [
            "Columns with only numerical values: Index(['SeniorCitizen', 'Partner', 'Dependents', 'tenure', 'PhoneService',\n",
            "       'MultipleLines', 'OnlineSecurity', 'OnlineBackup', 'DeviceProtection',\n",
            "       'TechSupport', 'StreamingTV', 'StreamingMovies', 'PaperlessBilling',\n",
            "       'MonthlyCharges', 'TotalCharges', 'Churn'],\n",
            "      dtype='object')\n"
          ]
        },
        {
          "data": {
            "text/plain": [
              "0       1889.50\n",
              "1        108.15\n",
              "2        151.65\n",
              "3        820.50\n",
              "4       1949.40\n",
              "         ...   \n",
              "4830    1495.10\n",
              "4831    1990.50\n",
              "4832    7362.90\n",
              "4833     306.60\n",
              "4834    6844.50\n",
              "Name: TotalCharges, Length: 4835, dtype: float64"
            ]
          },
          "execution_count": 11,
          "metadata": {},
          "output_type": "execute_result"
        }
      ],
      "source": [
        "df['TotalCharges'] = pd.to_numeric(df['TotalCharges'], errors='coerce')\n",
        "# Identify columns with only numerical values\n",
        "numerical_columns = df.select_dtypes(include='number').columns\n",
        "\n",
        "# Display the columns with only numerical values\n",
        "print(\"Columns with only numerical values:\", numerical_columns)\n",
        "\n",
        "df['TotalCharges']"
      ]
    },
    {
      "cell_type": "code",
      "execution_count": 12,
      "metadata": {
        "colab": {
          "base_uri": "https://localhost:8080/",
          "height": 0
        },
        "id": "If41UzG7Ddbq",
        "outputId": "f37aa5ad-a042-4e00-bdc1-afb087e22174"
      },
      "outputs": [
        {
          "data": {
            "text/plain": [
              "3"
            ]
          },
          "execution_count": 12,
          "metadata": {},
          "output_type": "execute_result"
        }
      ],
      "source": [
        "df['TotalCharges'].isna().sum()"
      ]
    },
    {
      "cell_type": "code",
      "execution_count": 13,
      "metadata": {
        "id": "-b0Gums9IOE_"
      },
      "outputs": [],
      "source": [
        "df['TotalCharges'].fillna(0,inplace=True)"
      ]
    },
    {
      "cell_type": "code",
      "execution_count": 14,
      "metadata": {
        "colab": {
          "base_uri": "https://localhost:8080/",
          "height": 0
        },
        "id": "E-4oO6F3IRIS",
        "outputId": "b202acd4-40e6-4d0d-d585-1c4963d3d93b"
      },
      "outputs": [
        {
          "data": {
            "text/plain": [
              "0"
            ]
          },
          "execution_count": 14,
          "metadata": {},
          "output_type": "execute_result"
        }
      ],
      "source": [
        "df['TotalCharges'].isna().sum()"
      ]
    },
    {
      "cell_type": "code",
      "execution_count": 15,
      "metadata": {
        "colab": {
          "base_uri": "https://localhost:8080/",
          "height": 0
        },
        "id": "ev2ZjtKTDUXr",
        "outputId": "61ea92a0-4d6e-4589-ce2e-e53179224318"
      },
      "outputs": [
        {
          "data": {
            "text/plain": [
              "['gender', 'InternetService', 'Contract', 'PaymentMethod']"
            ]
          },
          "execution_count": 15,
          "metadata": {},
          "output_type": "execute_result"
        }
      ],
      "source": [
        "#one hot encoding\n",
        "\n",
        "non_integer_columns = df.select_dtypes(exclude='number').columns.tolist()\n",
        "non_integer_columns"
      ]
    },
    {
      "cell_type": "code",
      "execution_count": 16,
      "metadata": {
        "colab": {
          "base_uri": "https://localhost:8080/",
          "height": 290
        },
        "id": "C-KGYIAADROn",
        "outputId": "27428057-5051-4e63-ccd0-3fb85ec41919"
      },
      "outputs": [
        {
          "data": {
            "application/vnd.google.colaboratory.intrinsic+json": {
              "type": "dataframe",
              "variable_name": "data_encoded"
            },
            "text/html": [
              "\n",
              "  <div id=\"df-c3a8a0c2-d6cc-44b9-a4b6-a4be4c03fd2c\" class=\"colab-df-container\">\n",
              "    <div>\n",
              "<style scoped>\n",
              "    .dataframe tbody tr th:only-of-type {\n",
              "        vertical-align: middle;\n",
              "    }\n",
              "\n",
              "    .dataframe tbody tr th {\n",
              "        vertical-align: top;\n",
              "    }\n",
              "\n",
              "    .dataframe thead th {\n",
              "        text-align: right;\n",
              "    }\n",
              "</style>\n",
              "<table border=\"1\" class=\"dataframe\">\n",
              "  <thead>\n",
              "    <tr style=\"text-align: right;\">\n",
              "      <th></th>\n",
              "      <th>SeniorCitizen</th>\n",
              "      <th>Partner</th>\n",
              "      <th>Dependents</th>\n",
              "      <th>tenure</th>\n",
              "      <th>PhoneService</th>\n",
              "      <th>MultipleLines</th>\n",
              "      <th>OnlineSecurity</th>\n",
              "      <th>OnlineBackup</th>\n",
              "      <th>DeviceProtection</th>\n",
              "      <th>TechSupport</th>\n",
              "      <th>...</th>\n",
              "      <th>gender_Male</th>\n",
              "      <th>InternetService_DSL</th>\n",
              "      <th>InternetService_Fiber optic</th>\n",
              "      <th>Contract_Month-to-month</th>\n",
              "      <th>Contract_One year</th>\n",
              "      <th>Contract_Two year</th>\n",
              "      <th>PaymentMethod_Bank transfer (automatic)</th>\n",
              "      <th>PaymentMethod_Credit card (automatic)</th>\n",
              "      <th>PaymentMethod_Electronic check</th>\n",
              "      <th>PaymentMethod_Mailed check</th>\n",
              "    </tr>\n",
              "  </thead>\n",
              "  <tbody>\n",
              "    <tr>\n",
              "      <th>0</th>\n",
              "      <td>0</td>\n",
              "      <td>0</td>\n",
              "      <td>0</td>\n",
              "      <td>34</td>\n",
              "      <td>1</td>\n",
              "      <td>0</td>\n",
              "      <td>1</td>\n",
              "      <td>0</td>\n",
              "      <td>1</td>\n",
              "      <td>0</td>\n",
              "      <td>...</td>\n",
              "      <td>1</td>\n",
              "      <td>1</td>\n",
              "      <td>0</td>\n",
              "      <td>0</td>\n",
              "      <td>1</td>\n",
              "      <td>0</td>\n",
              "      <td>0</td>\n",
              "      <td>0</td>\n",
              "      <td>0</td>\n",
              "      <td>1</td>\n",
              "    </tr>\n",
              "    <tr>\n",
              "      <th>1</th>\n",
              "      <td>0</td>\n",
              "      <td>0</td>\n",
              "      <td>0</td>\n",
              "      <td>2</td>\n",
              "      <td>1</td>\n",
              "      <td>0</td>\n",
              "      <td>1</td>\n",
              "      <td>1</td>\n",
              "      <td>0</td>\n",
              "      <td>0</td>\n",
              "      <td>...</td>\n",
              "      <td>1</td>\n",
              "      <td>1</td>\n",
              "      <td>0</td>\n",
              "      <td>1</td>\n",
              "      <td>0</td>\n",
              "      <td>0</td>\n",
              "      <td>0</td>\n",
              "      <td>0</td>\n",
              "      <td>0</td>\n",
              "      <td>1</td>\n",
              "    </tr>\n",
              "    <tr>\n",
              "      <th>2</th>\n",
              "      <td>0</td>\n",
              "      <td>0</td>\n",
              "      <td>0</td>\n",
              "      <td>2</td>\n",
              "      <td>1</td>\n",
              "      <td>0</td>\n",
              "      <td>0</td>\n",
              "      <td>0</td>\n",
              "      <td>0</td>\n",
              "      <td>0</td>\n",
              "      <td>...</td>\n",
              "      <td>0</td>\n",
              "      <td>0</td>\n",
              "      <td>1</td>\n",
              "      <td>1</td>\n",
              "      <td>0</td>\n",
              "      <td>0</td>\n",
              "      <td>0</td>\n",
              "      <td>0</td>\n",
              "      <td>1</td>\n",
              "      <td>0</td>\n",
              "    </tr>\n",
              "    <tr>\n",
              "      <th>3</th>\n",
              "      <td>0</td>\n",
              "      <td>0</td>\n",
              "      <td>0</td>\n",
              "      <td>8</td>\n",
              "      <td>1</td>\n",
              "      <td>1</td>\n",
              "      <td>0</td>\n",
              "      <td>0</td>\n",
              "      <td>1</td>\n",
              "      <td>0</td>\n",
              "      <td>...</td>\n",
              "      <td>0</td>\n",
              "      <td>0</td>\n",
              "      <td>1</td>\n",
              "      <td>1</td>\n",
              "      <td>0</td>\n",
              "      <td>0</td>\n",
              "      <td>0</td>\n",
              "      <td>0</td>\n",
              "      <td>1</td>\n",
              "      <td>0</td>\n",
              "    </tr>\n",
              "    <tr>\n",
              "      <th>4</th>\n",
              "      <td>0</td>\n",
              "      <td>0</td>\n",
              "      <td>1</td>\n",
              "      <td>22</td>\n",
              "      <td>1</td>\n",
              "      <td>1</td>\n",
              "      <td>0</td>\n",
              "      <td>1</td>\n",
              "      <td>0</td>\n",
              "      <td>0</td>\n",
              "      <td>...</td>\n",
              "      <td>1</td>\n",
              "      <td>0</td>\n",
              "      <td>1</td>\n",
              "      <td>1</td>\n",
              "      <td>0</td>\n",
              "      <td>0</td>\n",
              "      <td>0</td>\n",
              "      <td>1</td>\n",
              "      <td>0</td>\n",
              "      <td>0</td>\n",
              "    </tr>\n",
              "  </tbody>\n",
              "</table>\n",
              "<p>5 rows × 27 columns</p>\n",
              "</div>\n",
              "    <div class=\"colab-df-buttons\">\n",
              "\n",
              "  <div class=\"colab-df-container\">\n",
              "    <button class=\"colab-df-convert\" onclick=\"convertToInteractive('df-c3a8a0c2-d6cc-44b9-a4b6-a4be4c03fd2c')\"\n",
              "            title=\"Convert this dataframe to an interactive table.\"\n",
              "            style=\"display:none;\">\n",
              "\n",
              "  <svg xmlns=\"http://www.w3.org/2000/svg\" height=\"24px\" viewBox=\"0 -960 960 960\">\n",
              "    <path d=\"M120-120v-720h720v720H120Zm60-500h600v-160H180v160Zm220 220h160v-160H400v160Zm0 220h160v-160H400v160ZM180-400h160v-160H180v160Zm440 0h160v-160H620v160ZM180-180h160v-160H180v160Zm440 0h160v-160H620v160Z\"/>\n",
              "  </svg>\n",
              "    </button>\n",
              "\n",
              "  <style>\n",
              "    .colab-df-container {\n",
              "      display:flex;\n",
              "      gap: 12px;\n",
              "    }\n",
              "\n",
              "    .colab-df-convert {\n",
              "      background-color: #E8F0FE;\n",
              "      border: none;\n",
              "      border-radius: 50%;\n",
              "      cursor: pointer;\n",
              "      display: none;\n",
              "      fill: #1967D2;\n",
              "      height: 32px;\n",
              "      padding: 0 0 0 0;\n",
              "      width: 32px;\n",
              "    }\n",
              "\n",
              "    .colab-df-convert:hover {\n",
              "      background-color: #E2EBFA;\n",
              "      box-shadow: 0px 1px 2px rgba(60, 64, 67, 0.3), 0px 1px 3px 1px rgba(60, 64, 67, 0.15);\n",
              "      fill: #174EA6;\n",
              "    }\n",
              "\n",
              "    .colab-df-buttons div {\n",
              "      margin-bottom: 4px;\n",
              "    }\n",
              "\n",
              "    [theme=dark] .colab-df-convert {\n",
              "      background-color: #3B4455;\n",
              "      fill: #D2E3FC;\n",
              "    }\n",
              "\n",
              "    [theme=dark] .colab-df-convert:hover {\n",
              "      background-color: #434B5C;\n",
              "      box-shadow: 0px 1px 3px 1px rgba(0, 0, 0, 0.15);\n",
              "      filter: drop-shadow(0px 1px 2px rgba(0, 0, 0, 0.3));\n",
              "      fill: #FFFFFF;\n",
              "    }\n",
              "  </style>\n",
              "\n",
              "    <script>\n",
              "      const buttonEl =\n",
              "        document.querySelector('#df-c3a8a0c2-d6cc-44b9-a4b6-a4be4c03fd2c button.colab-df-convert');\n",
              "      buttonEl.style.display =\n",
              "        google.colab.kernel.accessAllowed ? 'block' : 'none';\n",
              "\n",
              "      async function convertToInteractive(key) {\n",
              "        const element = document.querySelector('#df-c3a8a0c2-d6cc-44b9-a4b6-a4be4c03fd2c');\n",
              "        const dataTable =\n",
              "          await google.colab.kernel.invokeFunction('convertToInteractive',\n",
              "                                                    [key], {});\n",
              "        if (!dataTable) return;\n",
              "\n",
              "        const docLinkHtml = 'Like what you see? Visit the ' +\n",
              "          '<a target=\"_blank\" href=https://colab.research.google.com/notebooks/data_table.ipynb>data table notebook</a>'\n",
              "          + ' to learn more about interactive tables.';\n",
              "        element.innerHTML = '';\n",
              "        dataTable['output_type'] = 'display_data';\n",
              "        await google.colab.output.renderOutput(dataTable, element);\n",
              "        const docLink = document.createElement('div');\n",
              "        docLink.innerHTML = docLinkHtml;\n",
              "        element.appendChild(docLink);\n",
              "      }\n",
              "    </script>\n",
              "  </div>\n",
              "\n",
              "\n",
              "<div id=\"df-f1d2b91d-d797-4288-9e91-f5b8ab2d55bf\">\n",
              "  <button class=\"colab-df-quickchart\" onclick=\"quickchart('df-f1d2b91d-d797-4288-9e91-f5b8ab2d55bf')\"\n",
              "            title=\"Suggest charts\"\n",
              "            style=\"display:none;\">\n",
              "\n",
              "<svg xmlns=\"http://www.w3.org/2000/svg\" height=\"24px\"viewBox=\"0 0 24 24\"\n",
              "     width=\"24px\">\n",
              "    <g>\n",
              "        <path d=\"M19 3H5c-1.1 0-2 .9-2 2v14c0 1.1.9 2 2 2h14c1.1 0 2-.9 2-2V5c0-1.1-.9-2-2-2zM9 17H7v-7h2v7zm4 0h-2V7h2v10zm4 0h-2v-4h2v4z\"/>\n",
              "    </g>\n",
              "</svg>\n",
              "  </button>\n",
              "\n",
              "<style>\n",
              "  .colab-df-quickchart {\n",
              "      --bg-color: #E8F0FE;\n",
              "      --fill-color: #1967D2;\n",
              "      --hover-bg-color: #E2EBFA;\n",
              "      --hover-fill-color: #174EA6;\n",
              "      --disabled-fill-color: #AAA;\n",
              "      --disabled-bg-color: #DDD;\n",
              "  }\n",
              "\n",
              "  [theme=dark] .colab-df-quickchart {\n",
              "      --bg-color: #3B4455;\n",
              "      --fill-color: #D2E3FC;\n",
              "      --hover-bg-color: #434B5C;\n",
              "      --hover-fill-color: #FFFFFF;\n",
              "      --disabled-bg-color: #3B4455;\n",
              "      --disabled-fill-color: #666;\n",
              "  }\n",
              "\n",
              "  .colab-df-quickchart {\n",
              "    background-color: var(--bg-color);\n",
              "    border: none;\n",
              "    border-radius: 50%;\n",
              "    cursor: pointer;\n",
              "    display: none;\n",
              "    fill: var(--fill-color);\n",
              "    height: 32px;\n",
              "    padding: 0;\n",
              "    width: 32px;\n",
              "  }\n",
              "\n",
              "  .colab-df-quickchart:hover {\n",
              "    background-color: var(--hover-bg-color);\n",
              "    box-shadow: 0 1px 2px rgba(60, 64, 67, 0.3), 0 1px 3px 1px rgba(60, 64, 67, 0.15);\n",
              "    fill: var(--button-hover-fill-color);\n",
              "  }\n",
              "\n",
              "  .colab-df-quickchart-complete:disabled,\n",
              "  .colab-df-quickchart-complete:disabled:hover {\n",
              "    background-color: var(--disabled-bg-color);\n",
              "    fill: var(--disabled-fill-color);\n",
              "    box-shadow: none;\n",
              "  }\n",
              "\n",
              "  .colab-df-spinner {\n",
              "    border: 2px solid var(--fill-color);\n",
              "    border-color: transparent;\n",
              "    border-bottom-color: var(--fill-color);\n",
              "    animation:\n",
              "      spin 1s steps(1) infinite;\n",
              "  }\n",
              "\n",
              "  @keyframes spin {\n",
              "    0% {\n",
              "      border-color: transparent;\n",
              "      border-bottom-color: var(--fill-color);\n",
              "      border-left-color: var(--fill-color);\n",
              "    }\n",
              "    20% {\n",
              "      border-color: transparent;\n",
              "      border-left-color: var(--fill-color);\n",
              "      border-top-color: var(--fill-color);\n",
              "    }\n",
              "    30% {\n",
              "      border-color: transparent;\n",
              "      border-left-color: var(--fill-color);\n",
              "      border-top-color: var(--fill-color);\n",
              "      border-right-color: var(--fill-color);\n",
              "    }\n",
              "    40% {\n",
              "      border-color: transparent;\n",
              "      border-right-color: var(--fill-color);\n",
              "      border-top-color: var(--fill-color);\n",
              "    }\n",
              "    60% {\n",
              "      border-color: transparent;\n",
              "      border-right-color: var(--fill-color);\n",
              "    }\n",
              "    80% {\n",
              "      border-color: transparent;\n",
              "      border-right-color: var(--fill-color);\n",
              "      border-bottom-color: var(--fill-color);\n",
              "    }\n",
              "    90% {\n",
              "      border-color: transparent;\n",
              "      border-bottom-color: var(--fill-color);\n",
              "    }\n",
              "  }\n",
              "</style>\n",
              "\n",
              "  <script>\n",
              "    async function quickchart(key) {\n",
              "      const quickchartButtonEl =\n",
              "        document.querySelector('#' + key + ' button');\n",
              "      quickchartButtonEl.disabled = true;  // To prevent multiple clicks.\n",
              "      quickchartButtonEl.classList.add('colab-df-spinner');\n",
              "      try {\n",
              "        const charts = await google.colab.kernel.invokeFunction(\n",
              "            'suggestCharts', [key], {});\n",
              "      } catch (error) {\n",
              "        console.error('Error during call to suggestCharts:', error);\n",
              "      }\n",
              "      quickchartButtonEl.classList.remove('colab-df-spinner');\n",
              "      quickchartButtonEl.classList.add('colab-df-quickchart-complete');\n",
              "    }\n",
              "    (() => {\n",
              "      let quickchartButtonEl =\n",
              "        document.querySelector('#df-f1d2b91d-d797-4288-9e91-f5b8ab2d55bf button');\n",
              "      quickchartButtonEl.style.display =\n",
              "        google.colab.kernel.accessAllowed ? 'block' : 'none';\n",
              "    })();\n",
              "  </script>\n",
              "</div>\n",
              "\n",
              "    </div>\n",
              "  </div>\n"
            ],
            "text/plain": [
              "   SeniorCitizen  Partner  Dependents  tenure  PhoneService  MultipleLines  \\\n",
              "0              0        0           0      34             1              0   \n",
              "1              0        0           0       2             1              0   \n",
              "2              0        0           0       2             1              0   \n",
              "3              0        0           0       8             1              1   \n",
              "4              0        0           1      22             1              1   \n",
              "\n",
              "   OnlineSecurity  OnlineBackup  DeviceProtection  TechSupport  ...  \\\n",
              "0               1             0                 1            0  ...   \n",
              "1               1             1                 0            0  ...   \n",
              "2               0             0                 0            0  ...   \n",
              "3               0             0                 1            0  ...   \n",
              "4               0             1                 0            0  ...   \n",
              "\n",
              "   gender_Male  InternetService_DSL  InternetService_Fiber optic  \\\n",
              "0            1                    1                            0   \n",
              "1            1                    1                            0   \n",
              "2            0                    0                            1   \n",
              "3            0                    0                            1   \n",
              "4            1                    0                            1   \n",
              "\n",
              "   Contract_Month-to-month  Contract_One year  Contract_Two year  \\\n",
              "0                        0                  1                  0   \n",
              "1                        1                  0                  0   \n",
              "2                        1                  0                  0   \n",
              "3                        1                  0                  0   \n",
              "4                        1                  0                  0   \n",
              "\n",
              "   PaymentMethod_Bank transfer (automatic)  \\\n",
              "0                                        0   \n",
              "1                                        0   \n",
              "2                                        0   \n",
              "3                                        0   \n",
              "4                                        0   \n",
              "\n",
              "   PaymentMethod_Credit card (automatic)  PaymentMethod_Electronic check  \\\n",
              "0                                      0                               0   \n",
              "1                                      0                               0   \n",
              "2                                      0                               1   \n",
              "3                                      0                               1   \n",
              "4                                      1                               0   \n",
              "\n",
              "   PaymentMethod_Mailed check  \n",
              "0                           1  \n",
              "1                           1  \n",
              "2                           0  \n",
              "3                           0  \n",
              "4                           0  \n",
              "\n",
              "[5 rows x 27 columns]"
            ]
          },
          "execution_count": 16,
          "metadata": {},
          "output_type": "execute_result"
        }
      ],
      "source": [
        "data_encoded = pd.get_dummies(df, columns=non_integer_columns)\n",
        "data_encoded.head()"
      ]
    },
    {
      "cell_type": "code",
      "execution_count": 17,
      "metadata": {
        "colab": {
          "base_uri": "https://localhost:8080/",
          "height": 0
        },
        "id": "ewJwXAOiDLaP",
        "outputId": "5a637704-5016-4251-c9ca-42b0623a1712"
      },
      "outputs": [
        {
          "name": "stdout",
          "output_type": "stream",
          "text": [
            "Column Names: ['SeniorCitizen', 'Partner', 'Dependents', 'tenure', 'PhoneService', 'MultipleLines', 'OnlineSecurity', 'OnlineBackup', 'DeviceProtection', 'TechSupport', 'StreamingTV', 'StreamingMovies', 'PaperlessBilling', 'MonthlyCharges', 'TotalCharges', 'Churn', 'gender_Female', 'gender_Male', 'InternetService_DSL', 'InternetService_Fiber optic', 'Contract_Month-to-month', 'Contract_One year', 'Contract_Two year', 'PaymentMethod_Bank transfer (automatic)', 'PaymentMethod_Credit card (automatic)', 'PaymentMethod_Electronic check', 'PaymentMethod_Mailed check']\n"
          ]
        }
      ],
      "source": [
        "df_boolean = data_encoded.select_dtypes(include='bool')\n",
        "data_encoded[df_boolean.columns] = df_boolean.applymap(lambda x: int(x))\n",
        "column_names = data_encoded.columns.tolist()\n",
        "\n",
        "# Print the list of column names\n",
        "print(\"Column Names:\", column_names)"
      ]
    },
    {
      "cell_type": "code",
      "execution_count": 18,
      "metadata": {
        "colab": {
          "base_uri": "https://localhost:8080/",
          "height": 0
        },
        "id": "OXWcDu6RDHXK",
        "outputId": "1831926b-8b73-4e79-96a1-ce21b3fa4d02"
      },
      "outputs": [
        {
          "name": "stdout",
          "output_type": "stream",
          "text": [
            "      SeniorCitizen  Partner  Dependents  tenure  PhoneService  MultipleLines  \\\n",
            "0                 0        0           0      34             1              0   \n",
            "1                 0        0           0       2             1              0   \n",
            "2                 0        0           0       2             1              0   \n",
            "3                 0        0           0       8             1              1   \n",
            "4                 0        0           1      22             1              1   \n",
            "...             ...      ...         ...     ...           ...            ...   \n",
            "4830              0        0           0      19             1              0   \n",
            "4831              0        1           1      24             1              1   \n",
            "4832              0        1           1      72             1              1   \n",
            "4833              1        1           0       4             1              1   \n",
            "4834              0        0           0      66             1              0   \n",
            "\n",
            "      OnlineSecurity  OnlineBackup  DeviceProtection  TechSupport  ...  \\\n",
            "0                  1             0                 1            0  ...   \n",
            "1                  1             1                 0            0  ...   \n",
            "2                  0             0                 0            0  ...   \n",
            "3                  0             0                 1            0  ...   \n",
            "4                  0             1                 0            0  ...   \n",
            "...              ...           ...               ...          ...  ...   \n",
            "4830               0             0                 0            0  ...   \n",
            "4831               1             0                 1            1  ...   \n",
            "4832               0             1                 1            0  ...   \n",
            "4833               0             0                 0            0  ...   \n",
            "4834               1             0                 1            1  ...   \n",
            "\n",
            "      InternetService_DSL  InternetService_Fiber optic  \\\n",
            "0                       1                            0   \n",
            "1                       1                            0   \n",
            "2                       0                            1   \n",
            "3                       0                            1   \n",
            "4                       0                            1   \n",
            "...                   ...                          ...   \n",
            "4830                    0                            1   \n",
            "4831                    1                            0   \n",
            "4832                    0                            1   \n",
            "4833                    0                            1   \n",
            "4834                    0                            1   \n",
            "\n",
            "      Contract_Month-to-month  Contract_One year  Contract_Two year  \\\n",
            "0                           0                  1                  0   \n",
            "1                           1                  0                  0   \n",
            "2                           1                  0                  0   \n",
            "3                           1                  0                  0   \n",
            "4                           1                  0                  0   \n",
            "...                       ...                ...                ...   \n",
            "4830                        1                  0                  0   \n",
            "4831                        0                  1                  0   \n",
            "4832                        0                  1                  0   \n",
            "4833                        1                  0                  0   \n",
            "4834                        0                  0                  1   \n",
            "\n",
            "      PaymentMethod_Bank transfer (automatic)  \\\n",
            "0                                           0   \n",
            "1                                           0   \n",
            "2                                           0   \n",
            "3                                           0   \n",
            "4                                           0   \n",
            "...                                       ...   \n",
            "4830                                        1   \n",
            "4831                                        0   \n",
            "4832                                        0   \n",
            "4833                                        0   \n",
            "4834                                        1   \n",
            "\n",
            "      PaymentMethod_Credit card (automatic)  PaymentMethod_Electronic check  \\\n",
            "0                                         0                               0   \n",
            "1                                         0                               0   \n",
            "2                                         0                               1   \n",
            "3                                         0                               1   \n",
            "4                                         1                               0   \n",
            "...                                     ...                             ...   \n",
            "4830                                      0                               0   \n",
            "4831                                      0                               0   \n",
            "4832                                      1                               0   \n",
            "4833                                      0                               0   \n",
            "4834                                      0                               0   \n",
            "\n",
            "      PaymentMethod_Mailed check  Churn  \n",
            "0                              1      0  \n",
            "1                              1      1  \n",
            "2                              0      1  \n",
            "3                              0      1  \n",
            "4                              0      0  \n",
            "...                          ...    ...  \n",
            "4830                           0      0  \n",
            "4831                           1      0  \n",
            "4832                           0      0  \n",
            "4833                           1      1  \n",
            "4834                           0      0  \n",
            "\n",
            "[4835 rows x 27 columns]\n"
          ]
        }
      ],
      "source": [
        "target_column = 'Churn'\n",
        "columns_order = [col for col in data_encoded.columns if col != target_column]\n",
        "\n",
        "# Append the target column to the end of the list\n",
        "columns_order.append(target_column)\n",
        "\n",
        "# Reorder the DataFrame columns based on the new order\n",
        "data_encoded= data_encoded[columns_order]\n",
        "\n",
        "# Display the updated DataFrame\n",
        "print(data_encoded)"
      ]
    },
    {
      "cell_type": "code",
      "execution_count": 19,
      "metadata": {
        "id": "aGn4sqwuC6s8"
      },
      "outputs": [],
      "source": [
        "features = data_encoded.iloc[:, :-1]\n",
        "target = data_encoded.iloc[:, -1]"
      ]
    },
    {
      "cell_type": "code",
      "execution_count": 20,
      "metadata": {
        "id": "A68NV2FyC4G0"
      },
      "outputs": [],
      "source": [
        "X_train, X_test, y_train, y_test = train_test_split(features, target, test_size=0.3, random_state=42)"
      ]
    },
    {
      "cell_type": "code",
      "execution_count": 21,
      "metadata": {
        "colab": {
          "base_uri": "https://localhost:8080/",
          "height": 0
        },
        "id": "KwivrqAdHE-W",
        "outputId": "79f1989d-e24e-45c4-f622-83ed6155f119"
      },
      "outputs": [
        {
          "name": "stdout",
          "output_type": "stream",
          "text": [
            "SeniorCitizen                              0\n",
            "Partner                                    0\n",
            "Dependents                                 0\n",
            "tenure                                     0\n",
            "PhoneService                               0\n",
            "MultipleLines                              0\n",
            "OnlineSecurity                             0\n",
            "OnlineBackup                               0\n",
            "DeviceProtection                           0\n",
            "TechSupport                                0\n",
            "StreamingTV                                0\n",
            "StreamingMovies                            0\n",
            "PaperlessBilling                           0\n",
            "MonthlyCharges                             0\n",
            "TotalCharges                               0\n",
            "gender_Female                              0\n",
            "gender_Male                                0\n",
            "InternetService_DSL                        0\n",
            "InternetService_Fiber optic                0\n",
            "Contract_Month-to-month                    0\n",
            "Contract_One year                          0\n",
            "Contract_Two year                          0\n",
            "PaymentMethod_Bank transfer (automatic)    0\n",
            "PaymentMethod_Credit card (automatic)      0\n",
            "PaymentMethod_Electronic check             0\n",
            "PaymentMethod_Mailed check                 0\n",
            "dtype: int64\n"
          ]
        }
      ],
      "source": [
        "nan_values = X_train.isna().sum()\n",
        "print(nan_values)"
      ]
    },
    {
      "cell_type": "code",
      "execution_count": 22,
      "metadata": {
        "id": "QZ7qF27TC0gX"
      },
      "outputs": [],
      "source": [
        "scaler = StandardScaler()\n",
        "X_train_scaled = scaler.fit_transform(X_train)\n",
        "X_test_scaled= scaler.transform(X_test)"
      ]
    },
    {
      "cell_type": "code",
      "execution_count": 24,
      "metadata": {
        "colab": {
          "base_uri": "https://localhost:8080/",
          "height": 0
        },
        "id": "sHfKQKk6CmKI",
        "outputId": "26d00f56-c4ce-4e33-ad58-45793eb2f88e"
      },
      "outputs": [
        {
          "name": "stdout",
          "output_type": "stream",
          "text": [
            "SVM Accuracy: 0.7518952446588559\n",
            "Decision Tree Accuracy: 0.6574776016540317\n",
            "Random Forest Accuracy: 0.7388008270158511\n",
            "Boosting Algorithm (AdaBoost) Accuracy: 0.7518952446588559\n"
          ]
        }
      ],
      "source": [
        "from sklearn.preprocessing import StandardScaler\n",
        "from sklearn.svm import SVC\n",
        "from sklearn.tree import DecisionTreeClassifier\n",
        "from sklearn.ensemble import RandomForestClassifier, AdaBoostClassifier\n",
        "from sklearn.metrics import accuracy_score\n",
        "# Support Vector Machine (SVM)\n",
        "svm_model = SVC()\n",
        "svm_model.fit(X_train_scaled, y_train)\n",
        "svm_predictions = svm_model.predict(X_test_scaled)\n",
        "svm_accuracy = accuracy_score(y_test, svm_predictions)\n",
        "print(f\"SVM Accuracy: {svm_accuracy}\")\n",
        "\n",
        "# Decision Tree\n",
        "dt_model = DecisionTreeClassifier()\n",
        "dt_model.fit(X_train_scaled, y_train)\n",
        "dt_predictions = dt_model.predict(X_test_scaled)\n",
        "dt_accuracy = accuracy_score(y_test, dt_predictions)\n",
        "print(f\"Decision Tree Accuracy: {dt_accuracy}\")\n",
        "\n",
        "# Random Forest\n",
        "rf_model = RandomForestClassifier()\n",
        "rf_model.fit(X_train_scaled, y_train)\n",
        "rf_predictions = rf_model.predict(X_test_scaled)\n",
        "rf_accuracy = accuracy_score(y_test, rf_predictions)\n",
        "print(f\"Random Forest Accuracy: {rf_accuracy}\")\n",
        "\n",
        "# Boosting Algorithm (AdaBoost)\n",
        "boosting_model = AdaBoostClassifier()\n",
        "boosting_model.fit(X_train_scaled, y_train)\n",
        "boosting_predictions = boosting_model.predict(X_test_scaled)\n",
        "boosting_accuracy = accuracy_score(y_test, boosting_predictions)\n",
        "print(f\"Boosting Algorithm (AdaBoost) Accuracy: {boosting_accuracy}\")"
      ]
    },
    {
      "cell_type": "code",
      "execution_count": 25,
      "metadata": {
        "id": "THwJ2GLsCpgd"
      },
      "outputs": [],
      "source": [
        "svm_model = SVC(C=1.0, kernel='rbf')\n",
        "dt_model = DecisionTreeClassifier(max_depth=5, min_samples_split=2, min_samples_leaf=1)\n",
        "rf_model = RandomForestClassifier(n_estimators=100, max_depth=10, max_features='sqrt')\n",
        "boosting_model = AdaBoostClassifier(n_estimators=50, learning_rate=1.0, base_estimator=DecisionTreeClassifier(max_depth=1))\n"
      ]
    },
    {
      "cell_type": "code",
      "execution_count": 27,
      "metadata": {
        "colab": {
          "base_uri": "https://localhost:8080/",
          "height": 0
        },
        "id": "olPPkO2rgnqE",
        "outputId": "a8af5d8a-a5f0-4362-b80d-b1b11df4e388"
      },
      "outputs": [
        {
          "name": "stdout",
          "output_type": "stream",
          "text": [
            "SVM Best Parameters: {'C': 10, 'gamma': 'scale', 'kernel': 'linear'}\n",
            "SVM Best Parameters (Randomized): {'C': 3.5092212015339475, 'gamma': 'auto', 'kernel': 'linear'}\n"
          ]
        }
      ],
      "source": [
        "from sklearn.model_selection import GridSearchCV, RandomizedSearchCV\n",
        "from sklearn.svm import SVC\n",
        "from scipy.stats import uniform\n",
        "\n",
        "# Tunable Parameters\n",
        "svm_param_grid = {'C': [0.1, 1, 10], 'kernel': ['linear', 'rbf'], 'gamma': ['scale', 'auto']}\n",
        "\n",
        "# GridSearchCV\n",
        "svm_grid_search = GridSearchCV(SVC(), svm_param_grid, cv=3)\n",
        "svm_grid_search.fit(X_train_scaled, y_train)\n",
        "svm_best_params = svm_grid_search.best_params_\n",
        "print(\"SVM Best Parameters:\", svm_best_params)\n",
        "\n",
        "# RandomizedSearchCV\n",
        "svm_param_dist = {'C': uniform(0.1, 10), 'kernel': ['linear', 'rbf'], 'gamma': ['scale', 'auto']}\n",
        "svm_random_search = RandomizedSearchCV(SVC(), svm_param_dist, n_iter=10, cv=3)\n",
        "svm_random_search.fit(X_train_scaled, y_train)\n",
        "svm_best_params_random = svm_random_search.best_params_\n",
        "print(\"SVM Best Parameters (Randomized):\", svm_best_params_random)\n"
      ]
    },
    {
      "cell_type": "code",
      "execution_count": 28,
      "metadata": {
        "colab": {
          "base_uri": "https://localhost:8080/",
          "height": 0
        },
        "id": "MihuarDSgAKo",
        "outputId": "8229a3f7-126b-4e13-9230-3944cc51b739"
      },
      "outputs": [
        {
          "name": "stdout",
          "output_type": "stream",
          "text": [
            "Decision Tree Best Parameters: {'max_depth': 5, 'min_samples_leaf': 1, 'min_samples_split': 5}\n",
            "Decision Tree Best Parameters (Randomized): {'max_depth': 5, 'min_samples_leaf': 2, 'min_samples_split': 8}\n"
          ]
        }
      ],
      "source": [
        "from sklearn.model_selection import GridSearchCV, RandomizedSearchCV\n",
        "from sklearn.tree import DecisionTreeClassifier\n",
        "from scipy.stats import randint\n",
        "\n",
        "# Tunable Parameters\n",
        "dt_param_grid = {'max_depth': [None, 5, 10], 'min_samples_split': [2, 5, 10], 'min_samples_leaf': [1, 2, 4]}\n",
        "\n",
        "# GridSearchCV\n",
        "dt_grid_search = GridSearchCV(DecisionTreeClassifier(), dt_param_grid, cv=3)\n",
        "dt_grid_search.fit(X_train_scaled, y_train)\n",
        "dt_best_params = dt_grid_search.best_params_\n",
        "print(\"Decision Tree Best Parameters:\", dt_best_params)\n",
        "\n",
        "# RandomizedSearchCV\n",
        "dt_param_dist = {'max_depth': [None, 5, 10, 15], 'min_samples_split': randint(2, 10), 'min_samples_leaf': randint(1, 5)}\n",
        "dt_random_search = RandomizedSearchCV(DecisionTreeClassifier(), dt_param_dist, n_iter=10, cv=3)\n",
        "dt_random_search.fit(X_train_scaled, y_train)\n",
        "dt_best_params_random = dt_random_search.best_params_\n",
        "print(\"Decision Tree Best Parameters (Randomized):\", dt_best_params_random)\n"
      ]
    },
    {
      "cell_type": "code",
      "execution_count": 29,
      "metadata": {
        "colab": {
          "base_uri": "https://localhost:8080/",
          "height": 0
        },
        "id": "vbrbOdn9g46H",
        "outputId": "c786918f-4c78-4f1f-ba9e-0aad4d68a157"
      },
      "outputs": [
        {
          "name": "stdout",
          "output_type": "stream",
          "text": [
            "Random Forest Best Parameters: {'max_depth': 10, 'max_features': 'log2', 'n_estimators': 100}\n",
            "Random Forest Best Parameters (Randomized): {'n_estimators': 100, 'max_features': 'log2', 'max_depth': 10}\n"
          ]
        }
      ],
      "source": [
        "from sklearn.model_selection import GridSearchCV, RandomizedSearchCV\n",
        "from sklearn.ensemble import RandomForestClassifier\n",
        "from scipy.stats import randint\n",
        "\n",
        "# Tunable Parameters\n",
        "rf_param_grid = {'n_estimators': [50, 100, 200], 'max_depth': [None, 10, 20], 'max_features': ['sqrt', 'log2']}\n",
        "\n",
        "# GridSearchCV\n",
        "rf_grid_search = GridSearchCV(RandomForestClassifier(), rf_param_grid, cv=3)\n",
        "rf_grid_search.fit(X_train_scaled, y_train)\n",
        "rf_best_params = rf_grid_search.best_params_\n",
        "print(\"Random Forest Best Parameters:\", rf_best_params)\n",
        "\n",
        "# RandomizedSearchCV\n",
        "rf_param_dist = {'n_estimators': [50, 100, 200], 'max_depth': [None, 10, 20], 'max_features': ['sqrt', 'log2']}\n",
        "rf_random_search = RandomizedSearchCV(RandomForestClassifier(), rf_param_dist, n_iter=10, cv=3)\n",
        "rf_random_search.fit(X_train_scaled, y_train)\n",
        "rf_best_params_random = rf_random_search.best_params_\n",
        "print(\"Random Forest Best Parameters (Randomized):\", rf_best_params_random)\n"
      ]
    },
    {
      "cell_type": "code",
      "execution_count": 45,
      "metadata": {
        "colab": {
          "base_uri": "https://localhost:8080/",
          "height": 0
        },
        "id": "vn7PiboDnT7F",
        "outputId": "376d47c8-af64-47fd-b625-366f065e045b"
      },
      "outputs": [
        {
          "name": "stdout",
          "output_type": "stream",
          "text": [
            "Best parameters for GridSearchCV: {'algorithm': 'SAMME.R', 'learning_rate': 0.5, 'n_estimators': 100}\n",
            "Best parameters for RandomizedSearchCV: {'n_estimators': 100, 'learning_rate': 0.5, 'algorithm': 'SAMME.R'}\n"
          ]
        }
      ],
      "source": [
        "# Import necessary libraries\n",
        "from sklearn.ensemble import AdaBoostClassifier\n",
        "from sklearn.model_selection import GridSearchCV, RandomizedSearchCV\n",
        "\n",
        "# Define the parameter grids\n",
        "param_grid = {\n",
        "    'n_estimators': [50, 100, 150, 200],\n",
        "    'learning_rate': [0.1, 0.5, 1.0],\n",
        "    'algorithm': ['SAMME', 'SAMME.R']\n",
        "}\n",
        "\n",
        "# Initialize the model\n",
        "clf = AdaBoostClassifier()\n",
        "\n",
        "# Perform GridSearchCV\n",
        "grid_search = GridSearchCV(clf, param_grid, cv=5)\n",
        "grid_search.fit(X_train_scaled, y_train)\n",
        "\n",
        "# Get the best parameters\n",
        "best_params_grid = grid_search.best_params_\n",
        "\n",
        "# Perform RandomizedSearchCV\n",
        "random_search = RandomizedSearchCV(clf, param_grid, cv=5, n_iter=10)\n",
        "random_search.fit(X_train_scaled, y_train)\n",
        "\n",
        "# Get the best parameters\n",
        "best_params_random = random_search.best_params_\n",
        "\n",
        "# Print the best parameters for both searches\n",
        "print(\"Best parameters for GridSearchCV:\", best_params_grid)\n",
        "print(\"Best parameters for RandomizedSearchCV:\", best_params_random)"
      ]
    }
  ],
  "metadata": {
    "colab": {
      "provenance": []
    },
    "kernelspec": {
      "display_name": "Python 3",
      "name": "python3"
    },
    "language_info": {
      "name": "python"
    }
  },
  "nbformat": 4,
  "nbformat_minor": 0
}
