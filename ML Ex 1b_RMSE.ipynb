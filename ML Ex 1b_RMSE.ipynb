{
 "cells": [
  {
   "cell_type": "code",
   "execution_count": 1,
   "id": "0a655ecc",
   "metadata": {},
   "outputs": [
    {
     "data": {
      "text/html": [
       "<div>\n",
       "<style scoped>\n",
       "    .dataframe tbody tr th:only-of-type {\n",
       "        vertical-align: middle;\n",
       "    }\n",
       "\n",
       "    .dataframe tbody tr th {\n",
       "        vertical-align: top;\n",
       "    }\n",
       "\n",
       "    .dataframe thead th {\n",
       "        text-align: right;\n",
       "    }\n",
       "</style>\n",
       "<table border=\"1\" class=\"dataframe\">\n",
       "  <thead>\n",
       "    <tr style=\"text-align: right;\">\n",
       "      <th></th>\n",
       "      <th>x</th>\n",
       "      <th>y</th>\n",
       "    </tr>\n",
       "  </thead>\n",
       "  <tbody>\n",
       "    <tr>\n",
       "      <th>0</th>\n",
       "      <td>17</td>\n",
       "      <td>94</td>\n",
       "    </tr>\n",
       "    <tr>\n",
       "      <th>1</th>\n",
       "      <td>13</td>\n",
       "      <td>73</td>\n",
       "    </tr>\n",
       "    <tr>\n",
       "      <th>2</th>\n",
       "      <td>12</td>\n",
       "      <td>59</td>\n",
       "    </tr>\n",
       "    <tr>\n",
       "      <th>3</th>\n",
       "      <td>15</td>\n",
       "      <td>80</td>\n",
       "    </tr>\n",
       "    <tr>\n",
       "      <th>4</th>\n",
       "      <td>16</td>\n",
       "      <td>93</td>\n",
       "    </tr>\n",
       "  </tbody>\n",
       "</table>\n",
       "</div>"
      ],
      "text/plain": [
       "    x   y\n",
       "0  17  94\n",
       "1  13  73\n",
       "2  12  59\n",
       "3  15  80\n",
       "4  16  93"
      ]
     },
     "execution_count": 1,
     "metadata": {},
     "output_type": "execute_result"
    }
   ],
   "source": [
    "import numpy as np\n",
    "import pandas as pd\n",
    "# Load the data from data1.csv\n",
    "data = pd.read_csv('data1.csv')\n",
    "data.head()"
   ]
  },
  {
   "cell_type": "code",
   "execution_count": 2,
   "id": "cd9d78b3",
   "metadata": {},
   "outputs": [],
   "source": [
    "# Extract the features (X) and target variable (y)\n",
    "X = data['x'].values\n",
    "Y = data['y'].values"
   ]
  },
  {
   "cell_type": "code",
   "execution_count": 3,
   "id": "0079eb4a",
   "metadata": {},
   "outputs": [],
   "source": [
    "# Calculate the mean of X and y\n",
    "mean_x = np.mean(X)\n",
    "mean_y = np.mean(Y)"
   ]
  },
  {
   "cell_type": "code",
   "execution_count": 4,
   "id": "a9e191d8",
   "metadata": {},
   "outputs": [
    {
     "name": "stdout",
     "output_type": "stream",
     "text": [
      "Coefficients of the Line of Best Fit - 1:\n",
      "Slope (m): 3.1792452830188513\n",
      "Intercept (c): 30.103773584905923\n",
      "Root Mean Squared Error (RMSE): 8.81781002204661\n",
      "Mean Absolute Error (MAE): 7.305660377358489\n"
     ]
    }
   ],
   "source": [
    "# Calculate the slope (m) and intercept (c) for the line of best fit\n",
    "# Formula 1\n",
    "numerator = np.sum((X * Y) - (mean_y * X))\n",
    "denominator = np.sum((X**2) - (mean_x * X))\n",
    "m = numerator / denominator\n",
    "c = mean_y - m * mean_x\n",
    "\n",
    "y_pred1 = m * X + c\n",
    "\n",
    "# Calculate RMSE (Root Mean Squared Error)\n",
    "rmse = np.sqrt(np.mean((Y - y_pred1) ** 2))\n",
    "\n",
    "# Calculate MAE (Mean Absolute Error)\n",
    "mae = np.mean(np.abs(Y - y_pred1))\n",
    "\n",
    "# Print the coefficients of the line of best fit\n",
    "print(\"Coefficients of the Line of Best Fit - 1:\")\n",
    "print(\"Slope (m):\", m)\n",
    "print(\"Intercept (c):\", c)\n",
    "\n",
    "# Print RMSE and MAE values\n",
    "print(\"Root Mean Squared Error (RMSE):\", rmse)\n",
    "print(\"Mean Absolute Error (MAE):\", mae)"
   ]
  },
  {
   "cell_type": "code",
   "execution_count": 5,
   "id": "dad7463a",
   "metadata": {},
   "outputs": [
    {
     "name": "stdout",
     "output_type": "stream",
     "text": [
      "Coefficients of the Line of Best Fit - 2:\n",
      "Slope (b1): 3.179245283018868\n",
      "Intercept (b0): 30.10377358490566\n",
      "Root Mean Squared Error (RMSE): 8.817810022046611\n",
      "Mean Absolute Error (MAE): 7.305660377358489\n"
     ]
    }
   ],
   "source": [
    "# Calculate the slope (b1) and intercept (b0) for the line of best fit\n",
    "# Formula 2\n",
    "numerator = np.sum((X - mean_x) * (Y - mean_y))\n",
    "denominator = np.sum((X - mean_x) ** 2)\n",
    "b1 = numerator / denominator\n",
    "b0 = mean_y - b1 * mean_x\n",
    "\n",
    "# Predict the target variable (y_pred) using the line of best fit\n",
    "y_pred2 = b1 * X + b0\n",
    "\n",
    "# Calculate RMSE (Root Mean Squared Error)\n",
    "rmse = np.sqrt(np.mean((Y - y_pred2) ** 2))\n",
    "\n",
    "# Calculate MAE (Mean Absolute Error)\n",
    "mae = np.mean(np.abs(Y - y_pred2))\n",
    "\n",
    "# Print the coefficients of the line of best fit\n",
    "print(\"Coefficients of the Line of Best Fit - 2:\")\n",
    "print(\"Slope (b1):\", b1)\n",
    "print(\"Intercept (b0):\", b0)\n",
    "\n",
    "# Print RMSE and MAE values\n",
    "print(\"Root Mean Squared Error (RMSE):\", rmse)\n",
    "print(\"Mean Absolute Error (MAE):\", mae)\n"
   ]
  }
 ],
 "metadata": {
  "kernelspec": {
   "display_name": "Python 3 (ipykernel)",
   "language": "python",
   "name": "python3"
  },
  "language_info": {
   "codemirror_mode": {
    "name": "ipython",
    "version": 3
   },
   "file_extension": ".py",
   "mimetype": "text/x-python",
   "name": "python",
   "nbconvert_exporter": "python",
   "pygments_lexer": "ipython3",
   "version": "3.9.13"
  }
 },
 "nbformat": 4,
 "nbformat_minor": 5
}
